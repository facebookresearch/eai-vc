{
 "cells": [
  {
   "cell_type": "code",
   "execution_count": null,
   "id": "d584f050",
   "metadata": {},
   "outputs": [],
   "source": [
    "%matplotlib inline\n",
    "%load_ext autoreload\n",
    "%autoreload 2"
   ]
  },
  {
   "cell_type": "code",
   "execution_count": null,
   "id": "f12a800e",
   "metadata": {},
   "outputs": [],
   "source": [
    "import os\n",
    "import datetime\n",
    "import time\n",
    "import pathlib\n",
    "project_path = pathlib.Path('.').absolute().parent\n",
    "os.sys.path.insert(1, str(project_path))"
   ]
  },
  {
   "cell_type": "code",
   "execution_count": null,
   "id": "e6623162",
   "metadata": {},
   "outputs": [],
   "source": [
    "import pybullet\n",
    "import numpy as np\n",
    "import pinocchio as pin\n",
    "import trifinger_simulation\n",
    "from dotmap import DotMap"
   ]
  },
  {
   "cell_type": "code",
   "execution_count": null,
   "id": "9c25bdeb",
   "metadata": {},
   "outputs": [],
   "source": [
    "from cto.mcts.pvmcts import PolicyValueMCTS\n",
    "from cto.mcts.pvnet import PolicyValueNet, ValueClassifier\n",
    "from cto.params import get_default_params, update_params\n",
    "from cto.contact_modes import construct_contact_plan\n",
    "from cto.envs.trifinger import TriFingerAndCube\n",
    "from cto.policy import OpenLoopPolicy"
   ]
  },
  {
   "cell_type": "code",
   "execution_count": null,
   "id": "bff99258",
   "metadata": {},
   "outputs": [],
   "source": [
    "object_urdf = str(trifinger_simulation.get_data_dir()/'cube_v2'/'cube_v2.urdf')\n",
    "params = get_default_params(object_urdf)\n",
    "# finger_type=\"trifinger_meta\" # with arena\n",
    "finger_type=\"trifingernyu\" # without arena\n",
    "visualization = True\n",
    "max_goal_orn_diff = np.pi/2\n",
    "\n",
    "num_episodes = 10\n",
    "max_budget_mcts = 20\n",
    "verbose = True\n",
    "log_path_suffix = None #\"data/\""
   ]
  },
  {
   "cell_type": "code",
   "execution_count": null,
   "id": "1f4db360",
   "metadata": {},
   "outputs": [],
   "source": [
    "init_pose_dict={\"position\": np.array([0.17930479, 0.06879323, 0.0325    ]),\n",
    "                \"orientation\": np.array([0.        , 0.        , 0.24076294, 0.97058395])}\n",
    "goal_pose_dict={\"position\": np.array([0.06534854, -0.01630616,  0.0325]),\n",
    "                \"orientation\": np.array([0.        ,  0.        , -0.45309934,  0.89146003])}"
   ]
  },
  {
   "cell_type": "code",
   "execution_count": null,
   "id": "88921be3",
   "metadata": {
    "scrolled": false
   },
   "outputs": [],
   "source": [
    "env = TriFingerAndCube(params, visualization=visualization, \n",
    "                       init_difficulty=-1, finger_type=finger_type)\n",
    "policy = OpenLoopPolicy(env.action_space, env.finger, time_step=0.001)\n",
    "for episode in range(num_episodes):\n",
    "    observation_list = []\n",
    "#     create the env and store init/goal object pose for reset\n",
    "#     obs = env.reset(init_pose_dict=init_pose_dict, \n",
    "#                     max_goal_orn_diff=max_goal_orn_diff)\n",
    "#     obs = env.reset(max_goal_orn_diff=max_goal_orn_diff)\n",
    "    obs = env.reset(init_pose_dict=init_pose_dict, \n",
    "                    goal_pose_dict=goal_pose_dict)\n",
    "#     obs = env.reset(goal_pose_dict=goal_pose_dict)\n",
    "    xyz, quat = env.get_cube_pose()\n",
    "    init_pose_dict = {\"position\":xyz, \"orientation\":quat}\n",
    "    goal_pose_dict = {\"position\":env.goal[:3], \"orientation\":env.goal[3:]}\n",
    "    \n",
    "    # set the mcts problem\n",
    "    pose_init = env.get_cube_pose_as_SE3()\n",
    "    pose_goal = pin.XYZQUATToSE3(env.goal)\n",
    "    delta = pin.log6(pose_goal.act(pose_init.inverse()))\n",
    "    desired_poses = [pose_init, pose_goal]\n",
    "    params = update_params(params, desired_poses, repr=\"SE3\")\n",
    "\n",
    "    # plan with an untrained mcts\n",
    "    mcts = PolicyValueMCTS(params, env)\n",
    "    mcts.run(state=[[0, 0, 0]], budget=max_budget_mcts, verbose=False)\n",
    "    state, sol = mcts.get_solution()\n",
    "\n",
    "    if state is None:\n",
    "        print(\"no solution found in episdoe {}\".format(episode))\n",
    "        continue\n",
    "        \n",
    "    # if a solution is found, executet the plan in gym\n",
    "    observation = env.reset(goal_pose_dict=goal_pose_dict, init_pose_dict=init_pose_dict)\n",
    "    policy.reset()\n",
    "    policy.set_trajs(observation, state, sol, params)\n",
    "\n",
    "    for i in range(policy.x_des.shape[0]):\n",
    "        action = policy.predict(observation)\n",
    "        observation, reward, episode_done, info = env.step(action)\n",
    "        policy_observation = policy.get_observation()\n",
    "        is_done = policy.done or episode_done\n",
    "        full_observation = {**observation, **policy_observation}\n",
    "        observation_list.append(full_observation)\n",
    "        \n",
    "    final_pos_err = observation_list[-1][\"achieved_goal_position_error\"]\n",
    "    final_orn_err = observation_list[-1][\"achieved_goal_orientation_error\"]\n",
    "    if verbose:\n",
    "        print(\"Final object position error: \", final_pos_err)\n",
    "        print(\"Final object orientation error: \", final_orn_err)\n",
    "        \n",
    "    if (log_path_suffix is not None\n",
    "        and final_pos_err <=0.02):\n",
    "        now = datetime.datetime.now()\n",
    "        log_path = log_path_suffix + now.strftime(\"%m%d_%H%M%S\")\n",
    "        np.savez_compressed(log_path, data=observation_list)\n",
    "        print(\"Saved episode {} to {}\".format(episode, log_path))\n",
    "    "
   ]
  }
 ],
 "metadata": {
  "kernelspec": {
   "display_name": "Python 3 (ipykernel)",
   "language": "python",
   "name": "python3"
  },
  "language_info": {
   "codemirror_mode": {
    "name": "ipython",
    "version": 3
   },
   "file_extension": ".py",
   "mimetype": "text/x-python",
   "name": "python",
   "nbconvert_exporter": "python",
   "pygments_lexer": "ipython3",
   "version": "3.8.13"
  }
 },
 "nbformat": 4,
 "nbformat_minor": 5
}
