{
 "cells": [
  {
   "cell_type": "code",
   "execution_count": 1,
   "id": "d584f050",
   "metadata": {},
   "outputs": [],
   "source": [
    "%matplotlib inline\n",
    "%load_ext autoreload\n",
    "%autoreload 2"
   ]
  },
  {
   "cell_type": "code",
   "execution_count": 2,
   "id": "f12a800e",
   "metadata": {},
   "outputs": [],
   "source": [
    "import os\n",
    "import datetime\n",
    "import time\n",
    "import pathlib\n",
    "project_path = pathlib.Path('.').absolute().parent\n",
    "os.sys.path.insert(1, str(project_path))"
   ]
  },
  {
   "cell_type": "code",
   "execution_count": 3,
   "id": "f2a75524",
   "metadata": {},
   "outputs": [],
   "source": [
    "import torch\n",
    "from tqdm.notebook import tqdm\n",
    "from torch.utils.data import DataLoader\n",
    "import numpy as np\n",
    "import pinocchio as pin\n",
    "from cto.cvae import VAE\n",
    "from dotmap import DotMap"
   ]
  },
  {
   "cell_type": "code",
   "execution_count": 4,
   "id": "c1d48b34",
   "metadata": {},
   "outputs": [],
   "source": [
    "data_paths = [\n",
    "    'data/1121_150831.npz',\n",
    "    'data/1121_150929.npz',\n",
    "    'data/1121_150946.npz',\n",
    "    ]"
   ]
  },
  {
   "cell_type": "code",
   "execution_count": 5,
   "id": "6a406bde",
   "metadata": {},
   "outputs": [],
   "source": [
    "all_X = []\n",
    "all_Y = []\n",
    "for path in data_paths:\n",
    "    with np.load(path, allow_pickle=True) as loaded:\n",
    "        data = loaded['data']\n",
    "        # prepare data\n",
    "    H = 10000 \n",
    "    N = len(data) - H\n",
    "    X = np.zeros((N, 6))\n",
    "    Y = np.zeros((N, 6))\n",
    "    \n",
    "    # y = pose_n, x = pose_{n+H}\n",
    "    for n in range(N):\n",
    "        pose_XYZQUAT = np.hstack((data[n][\"object_position\"], data[n][\"object_orientation\"]))\n",
    "        pose_SE3 = pin.XYZQUATToSE3(pose_XYZQUAT)\n",
    "        Y[n, :3] = pose_SE3.translation\n",
    "        Y[n, 3:] = pin.log3(pose_SE3.rotation)\n",
    "\n",
    "        pose_XYZQUAT = np.hstack((data[n+H][\"object_position\"], data[n+H][\"object_orientation\"]))\n",
    "        pose_SE3 = pin.XYZQUATToSE3(pose_XYZQUAT)\n",
    "        X[n, :3] = pose_SE3.translation\n",
    "        X[n, 3:] = pin.log3(pose_SE3.rotation)\n",
    "\n",
    "    all_X.append(X)\n",
    "    all_Y.append(Y)\n",
    "all_X = np.vstack(all_X)\n",
    "all_Y = np.vstack(all_Y)"
   ]
  },
  {
   "cell_type": "code",
   "execution_count": 6,
   "id": "ef86f99a",
   "metadata": {},
   "outputs": [],
   "source": [
    "class Dataset(torch.utils.data.Dataset):\n",
    "    def __init__(self, x, y):\n",
    "        super().__init__()\n",
    "        # store the raw tensors\n",
    "        self._x = x\n",
    "        self._y = y\n",
    "\n",
    "    def __len__(self):\n",
    "        # a DataSet must know it size\n",
    "        return self._x.shape[0]\n",
    "\n",
    "    def __getitem__(self, index):\n",
    "        x = self._x[index, :]\n",
    "        y = self._y[index, :]\n",
    "        return x, y\n",
    "    \n",
    "data_train = Dataset(all_X, all_Y)"
   ]
  },
  {
   "cell_type": "code",
   "execution_count": 7,
   "id": "9acf0c48",
   "metadata": {},
   "outputs": [],
   "source": [
    "def loss_fn(recon_x, x, mean, log_var):\n",
    "    MSE = torch.nn.functional.mse_loss(recon_x, x, reduction=\"sum\")\n",
    "#     BCE = torch.nn.functional.binary_cross_entropy(recon_x, x, reduction='sum')\n",
    "    KLD = -0.5 * torch.sum(1 + log_var - mean.pow(2) - log_var.exp())\n",
    "    return (MSE + KLD) / x.size(0)"
   ]
  },
  {
   "cell_type": "code",
   "execution_count": 8,
   "id": "612aac8b",
   "metadata": {},
   "outputs": [],
   "source": [
    "device = torch.device('cuda' if torch.cuda.is_available() else 'cpu')\n",
    "data_loader = DataLoader(data_train, batch_size=64, shuffle=True)\n",
    "vae = VAE(\n",
    "        encoder_layer_sizes=[6, 128],\n",
    "        latent_size=4,\n",
    "        decoder_layer_sizes=[128, 6],\n",
    "        conditional=True,\n",
    "        cond_size=6).to(device)\n",
    "optimizer = torch.optim.Adam(vae.parameters(), lr=1e-3)"
   ]
  },
  {
   "cell_type": "code",
   "execution_count": 9,
   "id": "27c81d07",
   "metadata": {},
   "outputs": [],
   "source": [
    "args = DotMap()\n",
    "args.epochs = 50"
   ]
  },
  {
   "cell_type": "code",
   "execution_count": 10,
   "id": "3716cf0f",
   "metadata": {},
   "outputs": [
    {
     "data": {
      "application/vnd.jupyter.widget-view+json": {
       "model_id": "34da2e4fd5324fe8940e50d715ae10a2",
       "version_major": 2,
       "version_minor": 0
      },
      "text/plain": [
       "  0%|          | 0/50 [00:00<?, ?it/s]"
      ]
     },
     "metadata": {},
     "output_type": "display_data"
    }
   ],
   "source": [
    "for epoch in tqdm(range(args.epochs)):\n",
    "    for iteration, (x, y) in enumerate(data_loader):\n",
    "        x, y = x.to(device).float(), y.to(device).float()\n",
    "        recon_x, mean, log_var, z = vae(x, y)\n",
    "        loss = loss_fn(recon_x, x, mean, log_var)\n",
    "        optimizer.zero_grad()\n",
    "        loss.backward()\n",
    "        optimizer.step()"
   ]
  },
  {
   "cell_type": "code",
   "execution_count": 11,
   "id": "0a022a54",
   "metadata": {},
   "outputs": [],
   "source": [
    "pose_XYZQUAT = np.array([0.17930479, 0.06879323, 0.0325, \n",
    "                         0.        , 0.        , 0.24076294, 0.97058395])\n",
    "pose_SE3 = pin.XYZQUATToSE3(pose_XYZQUAT)\n",
    "test_x = np.zeros(6)\n",
    "test_x[:3] = pose_SE3.translation\n",
    "test_x[3:] = pin.log3(pose_SE3.rotation)\n",
    "test_x = torch.tensor(test_x).repeat((1, 1)).to(device).float()\n",
    "\n",
    "vae.eval()\n",
    "recon_x = vae.inference(torch.randn([1, 4]).to(device), test_x).detach().cpu().numpy()\n",
    "recon_x[0, 2] = 0.0325\n",
    "pose_inter = pin.SE3(pin.exp3(recon_x[0, 3:]), recon_x[0,:3])"
   ]
  },
  {
   "cell_type": "code",
   "execution_count": 12,
   "id": "60f4f63f",
   "metadata": {},
   "outputs": [
    {
     "name": "stderr",
     "output_type": "stream",
     "text": [
      "pybullet build time: Jul 21 2022 19:50:14\n",
      "/home/hz/anaconda3/envs/eaif/lib/python3.8/site-packages/torchrl/__init__.py:35: UserWarning: failed to set start method to spawn, and current start method for mp is fork.\n",
      "  warn(\n"
     ]
    }
   ],
   "source": [
    "import pybullet\n",
    "import trifinger_simulation\n",
    "from cto.mcts.pvmcts import PolicyValueMCTS\n",
    "from cto.mcts.pvnet import PolicyValueNet, ValueClassifier\n",
    "from cto.params import get_default_params, update_params\n",
    "from cto.contact_modes import construct_contact_plan\n",
    "from cto.envs.trifinger import TriFingerAndCube\n",
    "from cto.policy import OpenLoopPolicy"
   ]
  },
  {
   "cell_type": "code",
   "execution_count": 13,
   "id": "319af2b5",
   "metadata": {},
   "outputs": [],
   "source": [
    "object_urdf = str(trifinger_simulation.get_data_dir()/'cube_v2'/'cube_v2.urdf')\n",
    "params = get_default_params(object_urdf)\n",
    "# finger_type=\"trifinger_meta\" # with arena\n",
    "finger_type=\"trifingernyu\" # without arena\n",
    "visualization = True\n",
    "max_goal_orn_diff = np.pi/2\n",
    "\n",
    "max_budget_mcts = 50\n",
    "verbose = True"
   ]
  },
  {
   "cell_type": "code",
   "execution_count": 14,
   "id": "b331288d",
   "metadata": {},
   "outputs": [],
   "source": [
    "init_pose_dict={\"position\": np.array([0.17930479, 0.06879323, 0.0325    ]),\n",
    "                \"orientation\": np.array([0.        , 0.        , 0.24076294, 0.97058395])}\n",
    "goal_pose_dict={\"position\": np.array([0.06534854, -0.01630616,  0.0325]),\n",
    "                \"orientation\": np.array([0.        ,  0.        , -0.45309934,  0.89146003])}"
   ]
  },
  {
   "cell_type": "code",
   "execution_count": 15,
   "id": "cfe6ec37",
   "metadata": {},
   "outputs": [
    {
     "name": "stdout",
     "output_type": "stream",
     "text": [
      "startThreads creating 1 threads.\n",
      "starting thread 0\n",
      "started thread 0 \n",
      "argc=2\n",
      "argv[0] = --unused\n",
      "argv[1] = --start_demo_name=Physics Server\n",
      "ExampleBrowserThreadFunc started\n",
      "X11 functions dynamically loaded using dlopen/dlsym OK!\n",
      "X11 functions dynamically loaded using dlopen/dlsym OK!\n",
      "Creating context\n",
      "Created GL 3.3 context\n",
      "Direct GLX rendering context obtained\n",
      "Making context current\n",
      "GL_VENDOR=NVIDIA Corporation\n",
      "GL_RENDERER=Quadro P1000/PCIe/SSE2\n",
      "GL_VERSION=3.3.0 NVIDIA 470.141.03\n",
      "GL_SHADING_LANGUAGE_VERSION=3.30 NVIDIA via Cg compiler\n",
      "pthread_getconcurrency()=0\n",
      "Version = 3.3.0 NVIDIA 470.141.03\n",
      "Vendor = NVIDIA Corporation\n",
      "Renderer = Quadro P1000/PCIe/SSE2\n",
      "b3Printf: Selected demo: Physics Server\n",
      "startThreads creating 1 threads.\n",
      "starting thread 0\n",
      "started thread 0 \n",
      "MotionThreadFunc thread started\n",
      "ven = NVIDIA Corporation\n",
      "ven = NVIDIA Corporation\n"
     ]
    }
   ],
   "source": [
    "env = TriFingerAndCube(params, visualization=visualization, \n",
    "                       init_difficulty=-1, finger_type=finger_type)\n",
    "policy = OpenLoopPolicy(env.action_space, env.finger, time_step=0.001)"
   ]
  },
  {
   "cell_type": "code",
   "execution_count": 16,
   "id": "6dd0fe6d",
   "metadata": {},
   "outputs": [
    {
     "name": "stderr",
     "output_type": "stream",
     "text": [
      "/home/hz/anaconda3/envs/eaif/lib/python3.8/site-packages/cvxpy/reductions/solvers/solving_chain.py:187: UserWarning: Your problem has too many parameters for efficient DPP compilation. We suggest setting 'ignore_dpp = True'.\n",
      "  warnings.warn(\n"
     ]
    }
   ],
   "source": [
    "observation_list = []\n",
    "#     create the env and store init/goal object pose for reset\n",
    "obs = env.reset(init_pose_dict=init_pose_dict, \n",
    "                goal_pose_dict=goal_pose_dict)\n",
    "xyz, quat = env.get_cube_pose()\n",
    "init_pose_dict = {\"position\":xyz, \"orientation\":quat}\n",
    "goal_pose_dict = {\"position\":env.goal[:3], \"orientation\":env.goal[3:]}\n",
    "\n",
    "# set the mcts problem\n",
    "pose_init = env.get_cube_pose_as_SE3()\n",
    "pose_goal = pin.XYZQUATToSE3(env.goal)\n",
    "delta = pin.log6(pose_goal.act(pose_init.inverse()))\n",
    "desired_poses = [pose_init, pose_inter, pose_goal]\n",
    "params = update_params(params, desired_poses, repr=\"SE3\")\n",
    "\n",
    "# plan with an untrained mcts\n",
    "mcts = PolicyValueMCTS(params, env)\n",
    "mcts.run(state=[[0, 0, 0]], budget=max_budget_mcts, verbose=False)\n",
    "state, sol = mcts.get_solution()"
   ]
  },
  {
   "cell_type": "code",
   "execution_count": 17,
   "id": "3279a86d",
   "metadata": {},
   "outputs": [
    {
     "name": "stdout",
     "output_type": "stream",
     "text": [
      "Final object position error:  0.009163810994577042\n",
      "Final object orientation error:  0.14923658383455748\n"
     ]
    }
   ],
   "source": [
    "# if a solution is found, executet the plan in gym\n",
    "observation = env.reset(goal_pose_dict=goal_pose_dict, init_pose_dict=init_pose_dict)\n",
    "policy.reset()\n",
    "policy.set_trajs(observation, state, sol, params)\n",
    "\n",
    "for i in range(policy.x_des.shape[0]):\n",
    "    action = policy.predict(observation)\n",
    "    observation, reward, episode_done, info = env.step(action)\n",
    "    policy_observation = policy.get_observation()\n",
    "    is_done = policy.done or episode_done\n",
    "    full_observation = {**observation, **policy_observation}\n",
    "    observation_list.append(full_observation)\n",
    "\n",
    "final_pos_err = observation_list[-1][\"achieved_goal_position_error\"]\n",
    "final_orn_err = observation_list[-1][\"achieved_goal_orientation_error\"]\n",
    "print(\"Final object position error: \", final_pos_err)\n",
    "print(\"Final object orientation error: \", final_orn_err)"
   ]
  },
  {
   "cell_type": "code",
   "execution_count": null,
   "id": "ec8ae4ca",
   "metadata": {},
   "outputs": [],
   "source": []
  }
 ],
 "metadata": {
  "kernelspec": {
   "display_name": "Python 3 (ipykernel)",
   "language": "python",
   "name": "python3"
  },
  "language_info": {
   "codemirror_mode": {
    "name": "ipython",
    "version": 3
   },
   "file_extension": ".py",
   "mimetype": "text/x-python",
   "name": "python",
   "nbconvert_exporter": "python",
   "pygments_lexer": "ipython3",
   "version": "3.8.13"
  }
 },
 "nbformat": 4,
 "nbformat_minor": 5
}
